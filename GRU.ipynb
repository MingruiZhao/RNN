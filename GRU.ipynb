{
  "nbformat": 4,
  "nbformat_minor": 0,
  "metadata": {
    "colab": {
      "name": "LSTM.ipynb",
      "provenance": [],
      "collapsed_sections": []
    },
    "kernelspec": {
      "name": "python3",
      "display_name": "Python 3"
    }
  },
  "cells": [
    {
      "cell_type": "code",
      "metadata": {
        "id": "DfHN4yme7s8J"
      },
      "source": [
        "import numpy as np\n",
        "import matplotlib.pyplot as plt\n",
        "import pandas as pd\n",
        "from sklearn.preprocessing import MinMaxScaler\n",
        "from tensorflow.keras import Sequential\n",
        "from tensorflow.keras.layers import Dense, LSTM, Dropout, GRU\n",
        "from keras.callbacks import History \n",
        "history = History()\n",
        "data = pd.read_csv('Google_Stock_Price_Train.csv', date_parser = True)\n",
        "data = data.iloc[:,1:6]\n",
        "scaler = MinMaxScaler()\n",
        "data = scaler.fit_transform(data)\n",
        "data = data[:len(data)-50] \n",
        "data_validation = data[len(data):] \n",
        "Xtrain = []\n",
        "Ytrain = []\n",
        "g = 0\n",
        "for i in range(1, data_training.shape[0]):\n",
        "    Xtrain.append(data_training[i-1:i])\n",
        "    Ytrain.append(data_training[i, g])\n",
        "    \n",
        "Xtrain, Ytrain = np.array(Xtrain), np.array(Ytrain)\n",
        "\n",
        "\n",
        "X_vali = []\n",
        "y_vali = []\n",
        "\n",
        "for i in range(1, data_validation.shape[0]):\n",
        "    X_vali.append(data_validation[i-1:i])\n",
        "    y_vali.append(data_validation[i, 0])\n",
        "    \n",
        "X_vali, y_vali = np.array(X_vali), np.array(y_vali)"
      ],
      "execution_count": 108,
      "outputs": []
    },
    {
      "cell_type": "code",
      "metadata": {
        "id": "ZDaCUH0k6J0i",
        "outputId": "4c0e5915-7d20-4973-a1e1-e04d92af5bcc",
        "colab": {
          "base_uri": "https://localhost:8080/",
          "height": 1000
        }
      },
      "source": [
        "\n",
        "regressor = Sequential()\n",
        "\n",
        "regressor.add(GRU(units = 60, activation = 'tanh', return_sequences = True, input_shape = (X_train.shape[1], 5)))\n",
        "regressor.add(Dropout(0.2))\n",
        "\n",
        "regressor.add(GRU(units = 60, activation = 'tanh', return_sequences = True))\n",
        "regressor.add(Dropout(0.2))\n",
        "\n",
        "regressor.add(GRU(units = 60, activation = 'tanh', return_sequences = True))\n",
        "regressor.add(Dropout(0.2))\n",
        "\n",
        "regressor.add(GRU(units = 60, activation = 'tanh'))\n",
        "regressor.add(Dropout(0.2))\n",
        "\n",
        "regressor.add(Dense(units = 1))\n",
        "regressor.compile(optimizer='adam', loss = 'mean_squared_error')\n",
        "regressor.fit(Xtrain, Ytrain,validation_data=(X_vali, y_vali), epochs=100, batch_size=32, callbacks=[history])"
      ],
      "execution_count": 109,
      "outputs": [
        {
          "output_type": "stream",
          "text": [
            "Epoch 1/100\n",
            "38/38 [==============================] - 0s 6ms/step - loss: 0.0900\n",
            "Epoch 2/100\n",
            "38/38 [==============================] - 0s 5ms/step - loss: 0.0132\n",
            "Epoch 3/100\n",
            "38/38 [==============================] - 0s 6ms/step - loss: 0.0059\n",
            "Epoch 4/100\n",
            "38/38 [==============================] - 0s 6ms/step - loss: 0.0057\n",
            "Epoch 5/100\n",
            "38/38 [==============================] - 0s 6ms/step - loss: 0.0049\n",
            "Epoch 6/100\n",
            "38/38 [==============================] - 0s 6ms/step - loss: 0.0044\n",
            "Epoch 7/100\n",
            "38/38 [==============================] - 0s 6ms/step - loss: 0.0043\n",
            "Epoch 8/100\n",
            "38/38 [==============================] - 0s 6ms/step - loss: 0.0038\n",
            "Epoch 9/100\n",
            "38/38 [==============================] - 0s 6ms/step - loss: 0.0038\n",
            "Epoch 10/100\n",
            "38/38 [==============================] - 0s 6ms/step - loss: 0.0035\n",
            "Epoch 11/100\n",
            "38/38 [==============================] - 0s 6ms/step - loss: 0.0033\n",
            "Epoch 12/100\n",
            "38/38 [==============================] - 0s 6ms/step - loss: 0.0032\n",
            "Epoch 13/100\n",
            "38/38 [==============================] - 0s 6ms/step - loss: 0.0028\n",
            "Epoch 14/100\n",
            "38/38 [==============================] - 0s 6ms/step - loss: 0.0029\n",
            "Epoch 15/100\n",
            "38/38 [==============================] - 0s 6ms/step - loss: 0.0027\n",
            "Epoch 16/100\n",
            "38/38 [==============================] - 0s 6ms/step - loss: 0.0027\n",
            "Epoch 17/100\n",
            "38/38 [==============================] - 0s 6ms/step - loss: 0.0028\n",
            "Epoch 18/100\n",
            "38/38 [==============================] - 0s 6ms/step - loss: 0.0025\n",
            "Epoch 19/100\n",
            "38/38 [==============================] - 0s 6ms/step - loss: 0.0027\n",
            "Epoch 20/100\n",
            "38/38 [==============================] - 0s 6ms/step - loss: 0.0027\n",
            "Epoch 21/100\n",
            "38/38 [==============================] - 0s 6ms/step - loss: 0.0025\n",
            "Epoch 22/100\n",
            "38/38 [==============================] - 0s 6ms/step - loss: 0.0027\n",
            "Epoch 23/100\n",
            "38/38 [==============================] - 0s 6ms/step - loss: 0.0023\n",
            "Epoch 24/100\n",
            "38/38 [==============================] - 0s 6ms/step - loss: 0.0027\n",
            "Epoch 25/100\n",
            "38/38 [==============================] - 0s 6ms/step - loss: 0.0022\n",
            "Epoch 26/100\n",
            "38/38 [==============================] - 0s 6ms/step - loss: 0.0025\n",
            "Epoch 27/100\n",
            "38/38 [==============================] - 0s 6ms/step - loss: 0.0024\n",
            "Epoch 28/100\n",
            "38/38 [==============================] - 0s 6ms/step - loss: 0.0023\n",
            "Epoch 29/100\n",
            "38/38 [==============================] - 0s 6ms/step - loss: 0.0026\n",
            "Epoch 30/100\n",
            "38/38 [==============================] - 0s 6ms/step - loss: 0.0021\n",
            "Epoch 31/100\n",
            "38/38 [==============================] - 0s 6ms/step - loss: 0.0023\n",
            "Epoch 32/100\n",
            "38/38 [==============================] - 0s 6ms/step - loss: 0.0022\n",
            "Epoch 33/100\n",
            "38/38 [==============================] - 0s 6ms/step - loss: 0.0022\n",
            "Epoch 34/100\n",
            "38/38 [==============================] - 0s 6ms/step - loss: 0.0021\n",
            "Epoch 35/100\n",
            "38/38 [==============================] - 0s 6ms/step - loss: 0.0024\n",
            "Epoch 36/100\n",
            "38/38 [==============================] - 0s 6ms/step - loss: 0.0021\n",
            "Epoch 37/100\n",
            "38/38 [==============================] - 0s 6ms/step - loss: 0.0021\n",
            "Epoch 38/100\n",
            "38/38 [==============================] - 0s 6ms/step - loss: 0.0022\n",
            "Epoch 39/100\n",
            "38/38 [==============================] - 0s 6ms/step - loss: 0.0021\n",
            "Epoch 40/100\n",
            "38/38 [==============================] - 0s 6ms/step - loss: 0.0021\n",
            "Epoch 41/100\n",
            "38/38 [==============================] - 0s 6ms/step - loss: 0.0023\n",
            "Epoch 42/100\n",
            "38/38 [==============================] - 0s 5ms/step - loss: 0.0022\n",
            "Epoch 43/100\n",
            "38/38 [==============================] - 0s 6ms/step - loss: 0.0020\n",
            "Epoch 44/100\n",
            "38/38 [==============================] - 0s 6ms/step - loss: 0.0021\n",
            "Epoch 45/100\n",
            "38/38 [==============================] - 0s 6ms/step - loss: 0.0020\n",
            "Epoch 46/100\n",
            "38/38 [==============================] - 0s 5ms/step - loss: 0.0020\n",
            "Epoch 47/100\n",
            "38/38 [==============================] - 0s 6ms/step - loss: 0.0020\n",
            "Epoch 48/100\n",
            "38/38 [==============================] - 0s 6ms/step - loss: 0.0019\n",
            "Epoch 49/100\n",
            "38/38 [==============================] - 0s 6ms/step - loss: 0.0019\n",
            "Epoch 50/100\n",
            "38/38 [==============================] - 0s 6ms/step - loss: 0.0019\n",
            "Epoch 51/100\n",
            "38/38 [==============================] - 0s 6ms/step - loss: 0.0021\n",
            "Epoch 52/100\n",
            "38/38 [==============================] - 0s 6ms/step - loss: 0.0020\n",
            "Epoch 53/100\n",
            "38/38 [==============================] - 0s 7ms/step - loss: 0.0020\n",
            "Epoch 54/100\n",
            "38/38 [==============================] - 0s 6ms/step - loss: 0.0019\n",
            "Epoch 55/100\n",
            "38/38 [==============================] - 0s 6ms/step - loss: 0.0019\n",
            "Epoch 56/100\n",
            "38/38 [==============================] - 0s 6ms/step - loss: 0.0021\n",
            "Epoch 57/100\n",
            "38/38 [==============================] - 0s 6ms/step - loss: 0.0017\n",
            "Epoch 58/100\n",
            "38/38 [==============================] - 0s 6ms/step - loss: 0.0019\n",
            "Epoch 59/100\n",
            "38/38 [==============================] - 0s 6ms/step - loss: 0.0019\n",
            "Epoch 60/100\n",
            "38/38 [==============================] - 0s 6ms/step - loss: 0.0019\n",
            "Epoch 61/100\n",
            "38/38 [==============================] - 0s 7ms/step - loss: 0.0018\n",
            "Epoch 62/100\n",
            "38/38 [==============================] - 0s 6ms/step - loss: 0.0017\n",
            "Epoch 63/100\n",
            "38/38 [==============================] - 0s 6ms/step - loss: 0.0019\n",
            "Epoch 64/100\n",
            "38/38 [==============================] - 0s 6ms/step - loss: 0.0018\n",
            "Epoch 65/100\n",
            "38/38 [==============================] - 0s 6ms/step - loss: 0.0017\n",
            "Epoch 66/100\n",
            "38/38 [==============================] - 0s 6ms/step - loss: 0.0016\n",
            "Epoch 67/100\n",
            "38/38 [==============================] - 0s 6ms/step - loss: 0.0017\n",
            "Epoch 68/100\n",
            "38/38 [==============================] - 0s 6ms/step - loss: 0.0017\n",
            "Epoch 69/100\n",
            "38/38 [==============================] - 0s 6ms/step - loss: 0.0019\n",
            "Epoch 70/100\n",
            "38/38 [==============================] - 0s 6ms/step - loss: 0.0018\n",
            "Epoch 71/100\n",
            "38/38 [==============================] - 0s 6ms/step - loss: 0.0018\n",
            "Epoch 72/100\n",
            "38/38 [==============================] - 0s 6ms/step - loss: 0.0018\n",
            "Epoch 73/100\n",
            "38/38 [==============================] - 0s 6ms/step - loss: 0.0019\n",
            "Epoch 74/100\n",
            "38/38 [==============================] - 0s 6ms/step - loss: 0.0019\n",
            "Epoch 75/100\n",
            "38/38 [==============================] - 0s 6ms/step - loss: 0.0017\n",
            "Epoch 76/100\n",
            "38/38 [==============================] - 0s 6ms/step - loss: 0.0016\n",
            "Epoch 77/100\n",
            "38/38 [==============================] - 0s 6ms/step - loss: 0.0017\n",
            "Epoch 78/100\n",
            "38/38 [==============================] - 0s 6ms/step - loss: 0.0017\n",
            "Epoch 79/100\n",
            "38/38 [==============================] - 0s 6ms/step - loss: 0.0016\n",
            "Epoch 80/100\n",
            "38/38 [==============================] - 0s 6ms/step - loss: 0.0016\n",
            "Epoch 81/100\n",
            "38/38 [==============================] - 0s 6ms/step - loss: 0.0017\n",
            "Epoch 82/100\n",
            "38/38 [==============================] - 0s 7ms/step - loss: 0.0018\n",
            "Epoch 83/100\n",
            "38/38 [==============================] - 0s 6ms/step - loss: 0.0019\n",
            "Epoch 84/100\n",
            "38/38 [==============================] - 0s 6ms/step - loss: 0.0018\n",
            "Epoch 85/100\n",
            "38/38 [==============================] - 0s 6ms/step - loss: 0.0017\n",
            "Epoch 86/100\n",
            "38/38 [==============================] - 0s 6ms/step - loss: 0.0016\n",
            "Epoch 87/100\n",
            "38/38 [==============================] - 0s 6ms/step - loss: 0.0015\n",
            "Epoch 88/100\n",
            "38/38 [==============================] - 0s 6ms/step - loss: 0.0017\n",
            "Epoch 89/100\n",
            "38/38 [==============================] - 0s 6ms/step - loss: 0.0018\n",
            "Epoch 90/100\n",
            "38/38 [==============================] - 0s 7ms/step - loss: 0.0016\n",
            "Epoch 91/100\n",
            "38/38 [==============================] - 0s 6ms/step - loss: 0.0018\n",
            "Epoch 92/100\n",
            "38/38 [==============================] - 0s 6ms/step - loss: 0.0017\n",
            "Epoch 93/100\n",
            "38/38 [==============================] - 0s 6ms/step - loss: 0.0017\n",
            "Epoch 94/100\n",
            "38/38 [==============================] - 0s 6ms/step - loss: 0.0017\n",
            "Epoch 95/100\n",
            "38/38 [==============================] - 0s 6ms/step - loss: 0.0015\n",
            "Epoch 96/100\n",
            "38/38 [==============================] - 0s 6ms/step - loss: 0.0016\n",
            "Epoch 97/100\n",
            "38/38 [==============================] - 0s 6ms/step - loss: 0.0015\n",
            "Epoch 98/100\n",
            "38/38 [==============================] - 0s 6ms/step - loss: 0.0016\n",
            "Epoch 99/100\n",
            "38/38 [==============================] - 0s 6ms/step - loss: 0.0016\n",
            "Epoch 100/100\n",
            "38/38 [==============================] - 0s 6ms/step - loss: 0.0015\n"
          ],
          "name": "stdout"
        },
        {
          "output_type": "execute_result",
          "data": {
            "text/plain": [
              "<tensorflow.python.keras.callbacks.History at 0x7ff3cfba65c0>"
            ]
          },
          "metadata": {
            "tags": []
          },
          "execution_count": 109
        }
      ]
    },
    {
      "cell_type": "code",
      "metadata": {
        "id": "y-HAFMRq_JA0",
        "outputId": "cacded08-e47b-4e0b-a33c-56e3b07b9998",
        "colab": {
          "base_uri": "https://localhost:8080/",
          "height": 283
        }
      },
      "source": [
        "plt.plot(history.history['loss'], color = 'blue', label = 'loss for Predicted Google Stock Price')"
      ],
      "execution_count": 110,
      "outputs": [
        {
          "output_type": "execute_result",
          "data": {
            "text/plain": [
              "[<matplotlib.lines.Line2D at 0x7ff3cdaceb38>]"
            ]
          },
          "metadata": {
            "tags": []
          },
          "execution_count": 110
        },
        {
          "output_type": "display_data",
          "data": {
            "image/png": "[encoded data removed]",
            "text/plain": [
              "<Figure size 432x288 with 1 Axes>"
            ]
          },
          "metadata": {
            "tags": [],
            "needs_background": "light"
          }
        }
      ]
    },
    {
      "cell_type": "code",
      "metadata": {
        "id": "KlbAjR4S6dJm",
        "outputId": "378e8ea1-1531-4b7f-a34e-323388464205",
        "colab": {
          "base_uri": "https://localhost:8080/",
          "height": 284
        }
      },
      "source": [
        "a = regressor.predict(Xtrain)\n",
        "plt.plot(a, color = 'blue', label = 'Predicted Google Stock Price')\n",
        "plt.plot(Ytrain, color = 'red', label = 'Predicted Google Stock Price')"
      ],
      "execution_count": 111,
      "outputs": [
        {
          "output_type": "execute_result",
          "data": {
            "text/plain": [
              "[<matplotlib.lines.Line2D at 0x7ff3cda611d0>]"
            ]
          },
          "metadata": {
            "tags": []
          },
          "execution_count": 111
        },
        {
          "output_type": "display_data",
          "data": {
            "image/png": "[encoded data removed]",
            "text/plain": [
              "<Figure size 432x288 with 1 Axes>"
            ]
          },
          "metadata": {
            "tags": [],
            "needs_background": "light"
          }
        }
      ]
    },
    {
      "cell_type": "code",
      "metadata": {
        "id": "DpkWkk_x7XzF",
        "outputId": "988ac223-f1f4-4223-d5c2-8344806e3182",
        "colab": {
          "base_uri": "https://localhost:8080/",
          "height": 35
        }
      },
      "source": [
        "data = pd.read_csv('Google_Stock_Price_Test.csv', date_parser = True)\n",
        "data_test = data.iloc[:,1:6]\n",
        "scaler = MinMaxScaler()\n",
        "data_test = scaler.fit_transform(data_test)\n",
        "\n",
        "Xtest = []\n",
        "ytest = []\n",
        "\n",
        "for i in range(1, data_test.shape[0]):\n",
        "    Xtest.append(data_test[i-1:i])\n",
        "    ytest.append(data_test[i, g])\n",
        "    \n",
        "Xtest, ytest = np.array(Xtest), np.array(ytest)\n",
        "Xtest.shape"
      ],
      "execution_count": 112,
      "outputs": [
        {
          "output_type": "execute_result",
          "data": {
            "text/plain": [
              "(19, 1, 5)"
            ]
          },
          "metadata": {
            "tags": []
          },
          "execution_count": 112
        }
      ]
    },
    {
      "cell_type": "code",
      "metadata": {
        "id": "8bpt4mpOUS0s"
      },
      "source": [
        "a = regressor.predict(Xtest)"
      ],
      "execution_count": 113,
      "outputs": []
    },
    {
      "cell_type": "code",
      "metadata": {
        "id": "YBrZhLNeUeux",
        "outputId": "650e1417-8721-45bd-c6c2-57797c290662",
        "colab": {
          "base_uri": "https://localhost:8080/",
          "height": 283
        }
      },
      "source": [
        "plt.plot(a, color = 'blue', label = 'Predicted Opening Price')\n",
        "plt.plot(ytest, color = 'red', label = 'Real Opening Price')"
      ],
      "execution_count": 114,
      "outputs": [
        {
          "output_type": "execute_result",
          "data": {
            "text/plain": [
              "[<matplotlib.lines.Line2D at 0x7ff3ccf1d2b0>]"
            ]
          },
          "metadata": {
            "tags": []
          },
          "execution_count": 114
        },
        {
          "output_type": "display_data",
          "data": {
            "image/png": "[encoded data removed]",
            "text/plain": [
              "<Figure size 432x288 with 1 Axes>"
            ]
          },
          "metadata": {
            "tags": [],
            "needs_background": "light"
          }
        }
      ]
    },
    {
      "cell_type": "code",
      "metadata": {
        "id": "glR5XCmOUiTf"
      },
      "source": [
        ""
      ],
      "execution_count": 114,
      "outputs": []
    }
  ]
}